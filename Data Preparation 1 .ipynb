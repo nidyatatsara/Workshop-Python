{
 "cells": [
  {
   "cell_type": "markdown",
   "metadata": {},
   "source": [
    "# Data Preparation 1"
   ]
  },
  {
   "cell_type": "markdown",
   "metadata": {},
   "source": [
    "## Data Wrangling"
   ]
  },
  {
   "cell_type": "markdown",
   "metadata": {},
   "source": [
    "Persiapan dataset sebelum dianalisa, terdiri dari beberapa format seperti pengelompokkan dan penggabungan"
   ]
  },
  {
   "cell_type": "code",
   "execution_count": 1,
   "metadata": {},
   "outputs": [],
   "source": [
    "import pandas as pd\n",
    "import numpy as np"
   ]
  },
  {
   "cell_type": "code",
   "execution_count": 2,
   "metadata": {},
   "outputs": [],
   "source": [
    "#mengelompokkan dataset\n",
    "team = {\n",
    "             'rank':  [1,2,3,4,5,6,7,8,1,2,3,4,5,6,7,8,1,2,3,4,5,6,7,8],\n",
    "             'team':  ['England','India','NewZealand','SouthAfrica','Pakistan','Australia','Bangladesh',\n",
    "                       'SriLanka','India','England','South Africa','New Zealand','Pakistan','Australia',\n",
    "                       'Bangladesh','SriLanka','England','India','NewZealand','SouthAfrica', 'Pakistan',\n",
    "                       'Australia','Bangladesh','SriLanka'],\n",
    "             'year':  [2016,2016,2016,2016,2016,2016,2016,2016,2017,2017,2017,2017,2017,2017,2017,2017,\n",
    "                       2018,2018,2018,2018,2018,2018,2018,2018],\n",
    "             'points': [4397,5310,3712,2834,3663,3888,2579,2463,4366,5710,3812,3834,3663,3088,2579,2563,\n",
    "                        4397,5310,3712,2834,3663,3888,2579,2463]\n",
    "            }"
   ]
  },
  {
   "cell_type": "code",
   "execution_count": 3,
   "metadata": {},
   "outputs": [
    {
     "name": "stdout",
     "output_type": "stream",
     "text": [
      "    rank          team  year  points\n",
      "0      1       England  2016    4397\n",
      "1      2         India  2016    5310\n",
      "2      3    NewZealand  2016    3712\n",
      "3      4   SouthAfrica  2016    2834\n",
      "4      5      Pakistan  2016    3663\n",
      "5      6     Australia  2016    3888\n",
      "6      7    Bangladesh  2016    2579\n",
      "7      8      SriLanka  2016    2463\n",
      "8      1         India  2017    4366\n",
      "9      2       England  2017    5710\n",
      "10     3  South Africa  2017    3812\n",
      "11     4   New Zealand  2017    3834\n",
      "12     5      Pakistan  2017    3663\n",
      "13     6     Australia  2017    3088\n",
      "14     7    Bangladesh  2017    2579\n",
      "15     8      SriLanka  2017    2563\n",
      "16     1       England  2018    4397\n",
      "17     2         India  2018    5310\n",
      "18     3    NewZealand  2018    3712\n",
      "19     4   SouthAfrica  2018    2834\n",
      "20     5      Pakistan  2018    3663\n",
      "21     6     Australia  2018    3888\n",
      "22     7    Bangladesh  2018    2579\n",
      "23     8      SriLanka  2018    2463\n"
     ]
    }
   ],
   "source": [
    "df_team = pd.DataFrame(team)\n",
    "print(df_team)"
   ]
  },
  {
   "cell_type": "code",
   "execution_count": 4,
   "metadata": {},
   "outputs": [
    {
     "name": "stdout",
     "output_type": "stream",
     "text": [
      "    rank         team  year  points\n",
      "16     1      England  2018    4397\n",
      "17     2        India  2018    5310\n",
      "18     3   NewZealand  2018    3712\n",
      "19     4  SouthAfrica  2018    2834\n",
      "20     5     Pakistan  2018    3663\n",
      "21     6    Australia  2018    3888\n",
      "22     7   Bangladesh  2018    2579\n",
      "23     8     SriLanka  2018    2463\n"
     ]
    }
   ],
   "source": [
    "grouped = df_team.groupby('year')\n",
    "print(grouped.get_group(2018))"
   ]
  },
  {
   "cell_type": "code",
   "execution_count": 5,
   "metadata": {},
   "outputs": [
    {
     "name": "stdout",
     "output_type": "stream",
     "text": [
      "Index(['rank', 'team', 'year', 'points'], dtype='object')\n"
     ]
    }
   ],
   "source": [
    "print(df_team.columns) #menampilkan nama setiap kolom"
   ]
  },
  {
   "cell_type": "code",
   "execution_count": 6,
   "metadata": {},
   "outputs": [
    {
     "name": "stdout",
     "output_type": "stream",
     "text": [
      "0     4397\n",
      "1     5310\n",
      "2     3712\n",
      "3     2834\n",
      "4     3663\n",
      "5     3888\n",
      "6     2579\n",
      "7     2463\n",
      "8     4366\n",
      "9     5710\n",
      "10    3812\n",
      "11    3834\n",
      "12    3663\n",
      "13    3088\n",
      "14    2579\n",
      "15    2563\n",
      "16    4397\n",
      "17    5310\n",
      "18    3712\n",
      "19    2834\n",
      "20    3663\n",
      "21    3888\n",
      "22    2579\n",
      "23    2463\n",
      "Name: points, dtype: int64\n"
     ]
    }
   ],
   "source": [
    "print(df_team['points']) #mengakses kolom points"
   ]
  },
  {
   "cell_type": "code",
   "execution_count": 7,
   "metadata": {},
   "outputs": [
    {
     "name": "stdout",
     "output_type": "stream",
     "text": [
      "rank              6\n",
      "team      Australia\n",
      "year           2016\n",
      "points         3888\n",
      "Name: 5, dtype: object\n"
     ]
    }
   ],
   "source": [
    "print(df_team.iloc[5]) #mengakses baris ke-6, indeks dimulai dari 0"
   ]
  },
  {
   "cell_type": "code",
   "execution_count": 8,
   "metadata": {},
   "outputs": [
    {
     "name": "stdout",
     "output_type": "stream",
     "text": [
      "3812\n"
     ]
    }
   ],
   "source": [
    "print(df_team['points'].iloc[10]) #mengakses kolom points baris ke-11"
   ]
  },
  {
   "cell_type": "code",
   "execution_count": 9,
   "metadata": {},
   "outputs": [
    {
     "name": "stdout",
     "output_type": "stream",
     "text": [
      "5    3888\n",
      "6    2579\n",
      "7    2463\n",
      "8    4366\n",
      "9    5710\n",
      "Name: points, dtype: int64\n"
     ]
    }
   ],
   "source": [
    "print(df_team['points'].iloc[5:10]) #menampilkan data kolom points baris ke-6 sampai kurang dari 11"
   ]
  },
  {
   "cell_type": "code",
   "execution_count": 10,
   "metadata": {},
   "outputs": [],
   "source": [
    "#menggabungkan dataset\n",
    "#concatenating data\n",
    "left_team =pd.DataFrame({\n",
    "             'rank':  [1,2,3,4,5,6,7,8],\n",
    "              'team':  [\n",
    "                       'England','India','NewZealand','SouthAfrica',\n",
    "                       'Pakistan','Australia', 'Bangladesh', 'SriLanka'\n",
    "                      ],\n",
    "              'rating':['126','121','112','111','102','100','93','79']\n",
    "            })\n",
    "\n",
    "right_team =pd.DataFrame({\n",
    "              'rank':[1,2,3,4,5,6,7,8],\n",
    "              'team': [ \n",
    "                        'India','England','SouthAfrica','NewZealand',\n",
    "                         'Australia', 'SriLanka', 'Pakistan','WestIndies'\n",
    "                       ],\n",
    "              'rating':['126','121','112','111','102','100','93','79']\n",
    "             })"
   ]
  },
  {
   "cell_type": "code",
   "execution_count": 11,
   "metadata": {},
   "outputs": [
    {
     "name": "stdout",
     "output_type": "stream",
     "text": [
      "   rank         team rating\n",
      "0     1      England    126\n",
      "1     2        India    121\n",
      "2     3   NewZealand    112\n",
      "3     4  SouthAfrica    111\n",
      "4     5     Pakistan    102\n",
      "5     6    Australia    100\n",
      "6     7   Bangladesh     93\n",
      "7     8     SriLanka     79 \n",
      "\n",
      "    rank         team rating\n",
      "0     1        India    126\n",
      "1     2      England    121\n",
      "2     3  SouthAfrica    112\n",
      "3     4   NewZealand    111\n",
      "4     5    Australia    102\n",
      "5     6     SriLanka    100\n",
      "6     7     Pakistan     93\n",
      "7     8   WestIndies     79\n"
     ]
    }
   ],
   "source": [
    "print(left_team,\"\\n\\n\",right_team)"
   ]
  },
  {
   "cell_type": "code",
   "execution_count": 12,
   "metadata": {},
   "outputs": [
    {
     "name": "stdout",
     "output_type": "stream",
     "text": [
      "   rank         team rating\n",
      "0     1      England    126\n",
      "1     2        India    121\n",
      "2     3   NewZealand    112\n",
      "3     4  SouthAfrica    111\n",
      "4     5     Pakistan    102\n",
      "5     6    Australia    100\n",
      "6     7   Bangladesh     93\n",
      "7     8     SriLanka     79\n",
      "0     1        India    126\n",
      "1     2      England    121\n",
      "2     3  SouthAfrica    112\n",
      "3     4   NewZealand    111\n",
      "4     5    Australia    102\n",
      "5     6     SriLanka    100\n",
      "6     7     Pakistan     93\n",
      "7     8   WestIndies     79\n"
     ]
    }
   ],
   "source": [
    "print(pd.concat([left_team,right_team]))"
   ]
  },
  {
   "cell_type": "code",
   "execution_count": 13,
   "metadata": {},
   "outputs": [
    {
     "name": "stdout",
     "output_type": "stream",
     "text": [
      "   rank_x         team rating_x  rank_y rating_y\n",
      "0     1.0      England      126     2.0      121\n",
      "1     2.0        India      121     1.0      126\n",
      "2     3.0   NewZealand      112     4.0      111\n",
      "3     4.0  SouthAfrica      111     3.0      112\n",
      "4     5.0     Pakistan      102     7.0       93\n",
      "5     6.0    Australia      100     5.0      102\n",
      "6     7.0   Bangladesh       93     NaN      NaN\n",
      "7     8.0     SriLanka       79     6.0      100\n",
      "8     NaN   WestIndies      NaN     8.0       79\n"
     ]
    }
   ],
   "source": [
    "#merging data\n",
    "outer=pd.merge(left_team, right_team,how='outer', on='team')\n",
    "print(outer)"
   ]
  },
  {
   "cell_type": "code",
   "execution_count": 14,
   "metadata": {},
   "outputs": [
    {
     "name": "stdout",
     "output_type": "stream",
     "text": [
      "   rank_x         team rating_x  rank_y rating_y\n",
      "0       1      England      126       2      121\n",
      "1       2        India      121       1      126\n",
      "2       3   NewZealand      112       4      111\n",
      "3       4  SouthAfrica      111       3      112\n",
      "4       5     Pakistan      102       7       93\n",
      "5       6    Australia      100       5      102\n",
      "6       8     SriLanka       79       6      100\n"
     ]
    }
   ],
   "source": [
    "inner=pd.merge(left_team, right_team,how='inner', on='team')\n",
    "print(inner)"
   ]
  },
  {
   "cell_type": "code",
   "execution_count": 15,
   "metadata": {},
   "outputs": [
    {
     "name": "stdout",
     "output_type": "stream",
     "text": [
      "   rank_x         team rating_x  rank_y rating_y\n",
      "0       1      England      126     2.0      121\n",
      "1       2        India      121     1.0      126\n",
      "2       3   NewZealand      112     4.0      111\n",
      "3       4  SouthAfrica      111     3.0      112\n",
      "4       5     Pakistan      102     7.0       93\n",
      "5       6    Australia      100     5.0      102\n",
      "6       7   Bangladesh       93     NaN      NaN\n",
      "7       8     SriLanka       79     6.0      100\n"
     ]
    }
   ],
   "source": [
    "left=pd.merge(left_team, right_team,how='left', on='team')\n",
    "print(left)"
   ]
  },
  {
   "cell_type": "code",
   "execution_count": 16,
   "metadata": {},
   "outputs": [
    {
     "name": "stdout",
     "output_type": "stream",
     "text": [
      "   rank_x         team rating_x  rank_y rating_y\n",
      "0     1.0      England      126       2      121\n",
      "1     2.0        India      121       1      126\n",
      "2     3.0   NewZealand      112       4      111\n",
      "3     4.0  SouthAfrica      111       3      112\n",
      "4     5.0     Pakistan      102       7       93\n",
      "5     6.0    Australia      100       5      102\n",
      "6     8.0     SriLanka       79       6      100\n",
      "7     NaN   WestIndies      NaN       8       79\n"
     ]
    }
   ],
   "source": [
    "right=pd.merge(left_team, right_team,how='right', on='team')\n",
    "print(right)"
   ]
  },
  {
   "cell_type": "markdown",
   "metadata": {},
   "source": [
    "## Data Cleansing"
   ]
  },
  {
   "cell_type": "markdown",
   "metadata": {},
   "source": [
    "80% tugas data science adalah data cleansing"
   ]
  },
  {
   "cell_type": "code",
   "execution_count": 17,
   "metadata": {},
   "outputs": [
    {
     "data": {
      "text/html": [
       "<div>\n",
       "<style scoped>\n",
       "    .dataframe tbody tr th:only-of-type {\n",
       "        vertical-align: middle;\n",
       "    }\n",
       "\n",
       "    .dataframe tbody tr th {\n",
       "        vertical-align: top;\n",
       "    }\n",
       "\n",
       "    .dataframe thead th {\n",
       "        text-align: right;\n",
       "    }\n",
       "</style>\n",
       "<table border=\"1\" class=\"dataframe\">\n",
       "  <thead>\n",
       "    <tr style=\"text-align: right;\">\n",
       "      <th></th>\n",
       "      <th>k1</th>\n",
       "      <th>k2</th>\n",
       "    </tr>\n",
       "  </thead>\n",
       "  <tbody>\n",
       "    <tr>\n",
       "      <th>0</th>\n",
       "      <td>one</td>\n",
       "      <td>1</td>\n",
       "    </tr>\n",
       "    <tr>\n",
       "      <th>1</th>\n",
       "      <td>two</td>\n",
       "      <td>1</td>\n",
       "    </tr>\n",
       "    <tr>\n",
       "      <th>2</th>\n",
       "      <td>one</td>\n",
       "      <td>2</td>\n",
       "    </tr>\n",
       "    <tr>\n",
       "      <th>3</th>\n",
       "      <td>two</td>\n",
       "      <td>3</td>\n",
       "    </tr>\n",
       "    <tr>\n",
       "      <th>4</th>\n",
       "      <td>one</td>\n",
       "      <td>3</td>\n",
       "    </tr>\n",
       "    <tr>\n",
       "      <th>5</th>\n",
       "      <td>two</td>\n",
       "      <td>4</td>\n",
       "    </tr>\n",
       "    <tr>\n",
       "      <th>6</th>\n",
       "      <td>two</td>\n",
       "      <td>4</td>\n",
       "    </tr>\n",
       "  </tbody>\n",
       "</table>\n",
       "</div>"
      ],
      "text/plain": [
       "    k1  k2\n",
       "0  one   1\n",
       "1  two   1\n",
       "2  one   2\n",
       "3  two   3\n",
       "4  one   3\n",
       "5  two   4\n",
       "6  two   4"
      ]
     },
     "execution_count": 17,
     "metadata": {},
     "output_type": "execute_result"
    }
   ],
   "source": [
    "#menghapus data yang sama\n",
    "data=pd.DataFrame({'k1':['one','two']*3+['two'],\n",
    "                  'k2':[1,1,2,3,3,4,4,]}) #['one','two']*3 diulang sebanyak 3 kali\n",
    "data"
   ]
  },
  {
   "cell_type": "code",
   "execution_count": 18,
   "metadata": {},
   "outputs": [
    {
     "data": {
      "text/plain": [
       "0    False\n",
       "1    False\n",
       "2    False\n",
       "3    False\n",
       "4    False\n",
       "5    False\n",
       "6     True\n",
       "dtype: bool"
      ]
     },
     "execution_count": 18,
     "metadata": {},
     "output_type": "execute_result"
    }
   ],
   "source": [
    "data.duplicated()"
   ]
  },
  {
   "cell_type": "code",
   "execution_count": 19,
   "metadata": {},
   "outputs": [
    {
     "data": {
      "text/html": [
       "<div>\n",
       "<style scoped>\n",
       "    .dataframe tbody tr th:only-of-type {\n",
       "        vertical-align: middle;\n",
       "    }\n",
       "\n",
       "    .dataframe tbody tr th {\n",
       "        vertical-align: top;\n",
       "    }\n",
       "\n",
       "    .dataframe thead th {\n",
       "        text-align: right;\n",
       "    }\n",
       "</style>\n",
       "<table border=\"1\" class=\"dataframe\">\n",
       "  <thead>\n",
       "    <tr style=\"text-align: right;\">\n",
       "      <th></th>\n",
       "      <th>k1</th>\n",
       "      <th>k2</th>\n",
       "    </tr>\n",
       "  </thead>\n",
       "  <tbody>\n",
       "    <tr>\n",
       "      <th>0</th>\n",
       "      <td>one</td>\n",
       "      <td>1</td>\n",
       "    </tr>\n",
       "    <tr>\n",
       "      <th>1</th>\n",
       "      <td>two</td>\n",
       "      <td>1</td>\n",
       "    </tr>\n",
       "    <tr>\n",
       "      <th>2</th>\n",
       "      <td>one</td>\n",
       "      <td>2</td>\n",
       "    </tr>\n",
       "    <tr>\n",
       "      <th>3</th>\n",
       "      <td>two</td>\n",
       "      <td>3</td>\n",
       "    </tr>\n",
       "    <tr>\n",
       "      <th>4</th>\n",
       "      <td>one</td>\n",
       "      <td>3</td>\n",
       "    </tr>\n",
       "    <tr>\n",
       "      <th>5</th>\n",
       "      <td>two</td>\n",
       "      <td>4</td>\n",
       "    </tr>\n",
       "  </tbody>\n",
       "</table>\n",
       "</div>"
      ],
      "text/plain": [
       "    k1  k2\n",
       "0  one   1\n",
       "1  two   1\n",
       "2  one   2\n",
       "3  two   3\n",
       "4  one   3\n",
       "5  two   4"
      ]
     },
     "execution_count": 19,
     "metadata": {},
     "output_type": "execute_result"
    }
   ],
   "source": [
    "data.drop_duplicates()"
   ]
  },
  {
   "cell_type": "code",
   "execution_count": 20,
   "metadata": {},
   "outputs": [
    {
     "data": {
      "text/html": [
       "<div>\n",
       "<style scoped>\n",
       "    .dataframe tbody tr th:only-of-type {\n",
       "        vertical-align: middle;\n",
       "    }\n",
       "\n",
       "    .dataframe tbody tr th {\n",
       "        vertical-align: top;\n",
       "    }\n",
       "\n",
       "    .dataframe thead th {\n",
       "        text-align: right;\n",
       "    }\n",
       "</style>\n",
       "<table border=\"1\" class=\"dataframe\">\n",
       "  <thead>\n",
       "    <tr style=\"text-align: right;\">\n",
       "      <th></th>\n",
       "      <th>k1</th>\n",
       "      <th>k2</th>\n",
       "      <th>v1</th>\n",
       "    </tr>\n",
       "  </thead>\n",
       "  <tbody>\n",
       "    <tr>\n",
       "      <th>0</th>\n",
       "      <td>one</td>\n",
       "      <td>1</td>\n",
       "      <td>0</td>\n",
       "    </tr>\n",
       "    <tr>\n",
       "      <th>1</th>\n",
       "      <td>two</td>\n",
       "      <td>1</td>\n",
       "      <td>1</td>\n",
       "    </tr>\n",
       "    <tr>\n",
       "      <th>2</th>\n",
       "      <td>one</td>\n",
       "      <td>2</td>\n",
       "      <td>2</td>\n",
       "    </tr>\n",
       "    <tr>\n",
       "      <th>3</th>\n",
       "      <td>two</td>\n",
       "      <td>3</td>\n",
       "      <td>3</td>\n",
       "    </tr>\n",
       "    <tr>\n",
       "      <th>4</th>\n",
       "      <td>one</td>\n",
       "      <td>3</td>\n",
       "      <td>4</td>\n",
       "    </tr>\n",
       "    <tr>\n",
       "      <th>5</th>\n",
       "      <td>two</td>\n",
       "      <td>4</td>\n",
       "      <td>5</td>\n",
       "    </tr>\n",
       "    <tr>\n",
       "      <th>6</th>\n",
       "      <td>two</td>\n",
       "      <td>4</td>\n",
       "      <td>6</td>\n",
       "    </tr>\n",
       "  </tbody>\n",
       "</table>\n",
       "</div>"
      ],
      "text/plain": [
       "    k1  k2  v1\n",
       "0  one   1   0\n",
       "1  two   1   1\n",
       "2  one   2   2\n",
       "3  two   3   3\n",
       "4  one   3   4\n",
       "5  two   4   5\n",
       "6  two   4   6"
      ]
     },
     "execution_count": 20,
     "metadata": {},
     "output_type": "execute_result"
    }
   ],
   "source": [
    "data['v1']=range(7)\n",
    "data"
   ]
  },
  {
   "cell_type": "code",
   "execution_count": 21,
   "metadata": {},
   "outputs": [
    {
     "data": {
      "text/html": [
       "<div>\n",
       "<style scoped>\n",
       "    .dataframe tbody tr th:only-of-type {\n",
       "        vertical-align: middle;\n",
       "    }\n",
       "\n",
       "    .dataframe tbody tr th {\n",
       "        vertical-align: top;\n",
       "    }\n",
       "\n",
       "    .dataframe thead th {\n",
       "        text-align: right;\n",
       "    }\n",
       "</style>\n",
       "<table border=\"1\" class=\"dataframe\">\n",
       "  <thead>\n",
       "    <tr style=\"text-align: right;\">\n",
       "      <th></th>\n",
       "      <th>k1</th>\n",
       "      <th>k2</th>\n",
       "      <th>v1</th>\n",
       "    </tr>\n",
       "  </thead>\n",
       "  <tbody>\n",
       "    <tr>\n",
       "      <th>0</th>\n",
       "      <td>one</td>\n",
       "      <td>1</td>\n",
       "      <td>2</td>\n",
       "    </tr>\n",
       "    <tr>\n",
       "      <th>1</th>\n",
       "      <td>two</td>\n",
       "      <td>1</td>\n",
       "      <td>4</td>\n",
       "    </tr>\n",
       "    <tr>\n",
       "      <th>2</th>\n",
       "      <td>one</td>\n",
       "      <td>2</td>\n",
       "      <td>6</td>\n",
       "    </tr>\n",
       "    <tr>\n",
       "      <th>3</th>\n",
       "      <td>two</td>\n",
       "      <td>3</td>\n",
       "      <td>8</td>\n",
       "    </tr>\n",
       "    <tr>\n",
       "      <th>4</th>\n",
       "      <td>one</td>\n",
       "      <td>3</td>\n",
       "      <td>10</td>\n",
       "    </tr>\n",
       "    <tr>\n",
       "      <th>5</th>\n",
       "      <td>two</td>\n",
       "      <td>4</td>\n",
       "      <td>12</td>\n",
       "    </tr>\n",
       "    <tr>\n",
       "      <th>6</th>\n",
       "      <td>two</td>\n",
       "      <td>4</td>\n",
       "      <td>14</td>\n",
       "    </tr>\n",
       "  </tbody>\n",
       "</table>\n",
       "</div>"
      ],
      "text/plain": [
       "    k1  k2  v1\n",
       "0  one   1   2\n",
       "1  two   1   4\n",
       "2  one   2   6\n",
       "3  two   3   8\n",
       "4  one   3  10\n",
       "5  two   4  12\n",
       "6  two   4  14"
      ]
     },
     "execution_count": 21,
     "metadata": {},
     "output_type": "execute_result"
    }
   ],
   "source": [
    "data['v1']=pd.DataFrame([2,4,6,8,10,12,14])\n",
    "data"
   ]
  },
  {
   "cell_type": "code",
   "execution_count": 22,
   "metadata": {},
   "outputs": [
    {
     "data": {
      "text/html": [
       "<div>\n",
       "<style scoped>\n",
       "    .dataframe tbody tr th:only-of-type {\n",
       "        vertical-align: middle;\n",
       "    }\n",
       "\n",
       "    .dataframe tbody tr th {\n",
       "        vertical-align: top;\n",
       "    }\n",
       "\n",
       "    .dataframe thead th {\n",
       "        text-align: right;\n",
       "    }\n",
       "</style>\n",
       "<table border=\"1\" class=\"dataframe\">\n",
       "  <thead>\n",
       "    <tr style=\"text-align: right;\">\n",
       "      <th></th>\n",
       "      <th>k1</th>\n",
       "      <th>k2</th>\n",
       "      <th>v1</th>\n",
       "    </tr>\n",
       "  </thead>\n",
       "  <tbody>\n",
       "    <tr>\n",
       "      <th>0</th>\n",
       "      <td>one</td>\n",
       "      <td>1</td>\n",
       "      <td>2</td>\n",
       "    </tr>\n",
       "    <tr>\n",
       "      <th>1</th>\n",
       "      <td>two</td>\n",
       "      <td>1</td>\n",
       "      <td>4</td>\n",
       "    </tr>\n",
       "  </tbody>\n",
       "</table>\n",
       "</div>"
      ],
      "text/plain": [
       "    k1  k2  v1\n",
       "0  one   1   2\n",
       "1  two   1   4"
      ]
     },
     "execution_count": 22,
     "metadata": {},
     "output_type": "execute_result"
    }
   ],
   "source": [
    "data_baru=data.drop_duplicates(['k1'])\n",
    "data_baru"
   ]
  },
  {
   "cell_type": "code",
   "execution_count": 23,
   "metadata": {},
   "outputs": [
    {
     "data": {
      "text/html": [
       "<div>\n",
       "<style scoped>\n",
       "    .dataframe tbody tr th:only-of-type {\n",
       "        vertical-align: middle;\n",
       "    }\n",
       "\n",
       "    .dataframe tbody tr th {\n",
       "        vertical-align: top;\n",
       "    }\n",
       "\n",
       "    .dataframe thead th {\n",
       "        text-align: right;\n",
       "    }\n",
       "</style>\n",
       "<table border=\"1\" class=\"dataframe\">\n",
       "  <thead>\n",
       "    <tr style=\"text-align: right;\">\n",
       "      <th></th>\n",
       "      <th>k1</th>\n",
       "      <th>k2</th>\n",
       "      <th>v1</th>\n",
       "    </tr>\n",
       "  </thead>\n",
       "  <tbody>\n",
       "    <tr>\n",
       "      <th>0</th>\n",
       "      <td>one</td>\n",
       "      <td>1</td>\n",
       "      <td>2</td>\n",
       "    </tr>\n",
       "    <tr>\n",
       "      <th>2</th>\n",
       "      <td>one</td>\n",
       "      <td>2</td>\n",
       "      <td>6</td>\n",
       "    </tr>\n",
       "    <tr>\n",
       "      <th>3</th>\n",
       "      <td>two</td>\n",
       "      <td>3</td>\n",
       "      <td>8</td>\n",
       "    </tr>\n",
       "    <tr>\n",
       "      <th>5</th>\n",
       "      <td>two</td>\n",
       "      <td>4</td>\n",
       "      <td>12</td>\n",
       "    </tr>\n",
       "  </tbody>\n",
       "</table>\n",
       "</div>"
      ],
      "text/plain": [
       "    k1  k2  v1\n",
       "0  one   1   2\n",
       "2  one   2   6\n",
       "3  two   3   8\n",
       "5  two   4  12"
      ]
     },
     "execution_count": 23,
     "metadata": {},
     "output_type": "execute_result"
    }
   ],
   "source": [
    "data_baru2=data.drop_duplicates(['k2'])\n",
    "data_baru2"
   ]
  },
  {
   "cell_type": "code",
   "execution_count": 24,
   "metadata": {},
   "outputs": [
    {
     "data": {
      "text/html": [
       "<div>\n",
       "<style scoped>\n",
       "    .dataframe tbody tr th:only-of-type {\n",
       "        vertical-align: middle;\n",
       "    }\n",
       "\n",
       "    .dataframe tbody tr th {\n",
       "        vertical-align: top;\n",
       "    }\n",
       "\n",
       "    .dataframe thead th {\n",
       "        text-align: right;\n",
       "    }\n",
       "</style>\n",
       "<table border=\"1\" class=\"dataframe\">\n",
       "  <thead>\n",
       "    <tr style=\"text-align: right;\">\n",
       "      <th></th>\n",
       "      <th>k1</th>\n",
       "      <th>k2</th>\n",
       "      <th>v1</th>\n",
       "    </tr>\n",
       "  </thead>\n",
       "  <tbody>\n",
       "    <tr>\n",
       "      <th>0</th>\n",
       "      <td>one</td>\n",
       "      <td>1</td>\n",
       "      <td>2</td>\n",
       "    </tr>\n",
       "    <tr>\n",
       "      <th>1</th>\n",
       "      <td>two</td>\n",
       "      <td>1</td>\n",
       "      <td>4</td>\n",
       "    </tr>\n",
       "    <tr>\n",
       "      <th>2</th>\n",
       "      <td>one</td>\n",
       "      <td>2</td>\n",
       "      <td>6</td>\n",
       "    </tr>\n",
       "    <tr>\n",
       "      <th>3</th>\n",
       "      <td>two</td>\n",
       "      <td>3</td>\n",
       "      <td>8</td>\n",
       "    </tr>\n",
       "    <tr>\n",
       "      <th>4</th>\n",
       "      <td>one</td>\n",
       "      <td>3</td>\n",
       "      <td>10</td>\n",
       "    </tr>\n",
       "    <tr>\n",
       "      <th>5</th>\n",
       "      <td>two</td>\n",
       "      <td>4</td>\n",
       "      <td>12</td>\n",
       "    </tr>\n",
       "    <tr>\n",
       "      <th>6</th>\n",
       "      <td>two</td>\n",
       "      <td>4</td>\n",
       "      <td>14</td>\n",
       "    </tr>\n",
       "  </tbody>\n",
       "</table>\n",
       "</div>"
      ],
      "text/plain": [
       "    k1  k2  v1\n",
       "0  one   1   2\n",
       "1  two   1   4\n",
       "2  one   2   6\n",
       "3  two   3   8\n",
       "4  one   3  10\n",
       "5  two   4  12\n",
       "6  two   4  14"
      ]
     },
     "execution_count": 24,
     "metadata": {},
     "output_type": "execute_result"
    }
   ],
   "source": [
    "data_baru3=data.drop_duplicates(['v1'])\n",
    "data_baru3"
   ]
  },
  {
   "cell_type": "code",
   "execution_count": 25,
   "metadata": {},
   "outputs": [
    {
     "data": {
      "text/plain": [
       "0     1\n",
       "1    10\n",
       "2     9\n",
       "3     5\n",
       "4     7\n",
       "5    11\n",
       "6    13\n",
       "7    24\n",
       "8     3\n",
       "9    20\n",
       "dtype: int64"
      ]
     },
     "execution_count": 25,
     "metadata": {},
     "output_type": "execute_result"
    }
   ],
   "source": [
    "#mengganti data\n",
    "contoh=pd.Series([1,10,9,5,7,11,13,24,3,20])\n",
    "contoh"
   ]
  },
  {
   "cell_type": "code",
   "execution_count": 26,
   "metadata": {},
   "outputs": [
    {
     "data": {
      "text/plain": [
       "0     1\n",
       "1    10\n",
       "2     9\n",
       "3     5\n",
       "4     7\n",
       "5    11\n",
       "6    13\n",
       "7    14\n",
       "8     3\n",
       "9    20\n",
       "dtype: int64"
      ]
     },
     "execution_count": 26,
     "metadata": {},
     "output_type": "execute_result"
    }
   ],
   "source": [
    "contoh1=contoh.replace(24,14)\n",
    "contoh1"
   ]
  },
  {
   "cell_type": "code",
   "execution_count": 27,
   "metadata": {},
   "outputs": [
    {
     "data": {
      "text/plain": [
       "0     1\n",
       "1    10\n",
       "2     9\n",
       "3     5\n",
       "4     7\n",
       "5    11\n",
       "6    13\n",
       "7    24\n",
       "8     3\n",
       "9    10\n",
       "dtype: int64"
      ]
     },
     "execution_count": 27,
     "metadata": {},
     "output_type": "execute_result"
    }
   ],
   "source": [
    "contoh2=contoh.replace(20,10)\n",
    "contoh2"
   ]
  },
  {
   "cell_type": "code",
   "execution_count": 28,
   "metadata": {},
   "outputs": [
    {
     "data": {
      "text/plain": [
       "0     1\n",
       "1    10\n",
       "2     9\n",
       "3     5\n",
       "4     7\n",
       "5    11\n",
       "6    13\n",
       "7    10\n",
       "8     3\n",
       "9    10\n",
       "dtype: int64"
      ]
     },
     "execution_count": 28,
     "metadata": {},
     "output_type": "execute_result"
    }
   ],
   "source": [
    "contoh3=contoh.replace([20,24],10)\n",
    "contoh3"
   ]
  },
  {
   "cell_type": "code",
   "execution_count": 29,
   "metadata": {},
   "outputs": [
    {
     "data": {
      "text/plain": [
       "0     1\n",
       "1    10\n",
       "2     9\n",
       "3     5\n",
       "4     7\n",
       "5    11\n",
       "6    13\n",
       "7    14\n",
       "8     3\n",
       "9    10\n",
       "dtype: int64"
      ]
     },
     "execution_count": 29,
     "metadata": {},
     "output_type": "execute_result"
    }
   ],
   "source": [
    "contoh4=contoh.replace([20,24],[10,14])\n",
    "contoh4"
   ]
  },
  {
   "cell_type": "code",
   "execution_count": 30,
   "metadata": {},
   "outputs": [
    {
     "data": {
      "text/html": [
       "<div>\n",
       "<style scoped>\n",
       "    .dataframe tbody tr th:only-of-type {\n",
       "        vertical-align: middle;\n",
       "    }\n",
       "\n",
       "    .dataframe tbody tr th {\n",
       "        vertical-align: top;\n",
       "    }\n",
       "\n",
       "    .dataframe thead th {\n",
       "        text-align: right;\n",
       "    }\n",
       "</style>\n",
       "<table border=\"1\" class=\"dataframe\">\n",
       "  <thead>\n",
       "    <tr style=\"text-align: right;\">\n",
       "      <th></th>\n",
       "      <th>Kuis</th>\n",
       "      <th>UTS</th>\n",
       "      <th>UAS</th>\n",
       "    </tr>\n",
       "  </thead>\n",
       "  <tbody>\n",
       "    <tr>\n",
       "      <th>Siti</th>\n",
       "      <td>70</td>\n",
       "      <td>83</td>\n",
       "      <td>79</td>\n",
       "    </tr>\n",
       "    <tr>\n",
       "      <th>Renol</th>\n",
       "      <td>80</td>\n",
       "      <td>86</td>\n",
       "      <td>81</td>\n",
       "    </tr>\n",
       "    <tr>\n",
       "      <th>Arif</th>\n",
       "      <td>87</td>\n",
       "      <td>88</td>\n",
       "      <td>90</td>\n",
       "    </tr>\n",
       "    <tr>\n",
       "      <th>Aidil</th>\n",
       "      <td>77</td>\n",
       "      <td>84</td>\n",
       "      <td>91</td>\n",
       "    </tr>\n",
       "  </tbody>\n",
       "</table>\n",
       "</div>"
      ],
      "text/plain": [
       "       Kuis  UTS  UAS\n",
       "Siti     70   83   79\n",
       "Renol    80   86   81\n",
       "Arif     87   88   90\n",
       "Aidil    77   84   91"
      ]
     },
     "execution_count": 30,
     "metadata": {},
     "output_type": "execute_result"
    }
   ],
   "source": [
    "#mengubah nama baris dan kolom\n",
    "tabel={'Kuis':[70,80,87,77],\n",
    "       'UTS':[83,86,88,84],\n",
    "       'UAS':[79,81,90,91]}\n",
    "tabel_df=pd.DataFrame(tabel,index=['Siti','Renol','Arif','Aidil'])\n",
    "tabel_df"
   ]
  },
  {
   "cell_type": "code",
   "execution_count": 31,
   "metadata": {},
   "outputs": [
    {
     "data": {
      "text/html": [
       "<div>\n",
       "<style scoped>\n",
       "    .dataframe tbody tr th:only-of-type {\n",
       "        vertical-align: middle;\n",
       "    }\n",
       "\n",
       "    .dataframe tbody tr th {\n",
       "        vertical-align: top;\n",
       "    }\n",
       "\n",
       "    .dataframe thead th {\n",
       "        text-align: right;\n",
       "    }\n",
       "</style>\n",
       "<table border=\"1\" class=\"dataframe\">\n",
       "  <thead>\n",
       "    <tr style=\"text-align: right;\">\n",
       "      <th></th>\n",
       "      <th>Tugas</th>\n",
       "      <th>UTS</th>\n",
       "      <th>UAS</th>\n",
       "    </tr>\n",
       "  </thead>\n",
       "  <tbody>\n",
       "    <tr>\n",
       "      <th>Siti</th>\n",
       "      <td>70</td>\n",
       "      <td>83</td>\n",
       "      <td>79</td>\n",
       "    </tr>\n",
       "    <tr>\n",
       "      <th>Renol</th>\n",
       "      <td>80</td>\n",
       "      <td>86</td>\n",
       "      <td>81</td>\n",
       "    </tr>\n",
       "    <tr>\n",
       "      <th>Arif</th>\n",
       "      <td>87</td>\n",
       "      <td>88</td>\n",
       "      <td>90</td>\n",
       "    </tr>\n",
       "    <tr>\n",
       "      <th>Fanny</th>\n",
       "      <td>77</td>\n",
       "      <td>84</td>\n",
       "      <td>91</td>\n",
       "    </tr>\n",
       "  </tbody>\n",
       "</table>\n",
       "</div>"
      ],
      "text/plain": [
       "       Tugas  UTS  UAS\n",
       "Siti      70   83   79\n",
       "Renol     80   86   81\n",
       "Arif      87   88   90\n",
       "Fanny     77   84   91"
      ]
     },
     "execution_count": 31,
     "metadata": {},
     "output_type": "execute_result"
    }
   ],
   "source": [
    "tabel_baru=tabel_df.rename(index={'Aidil':'Fanny'},\n",
    "                        columns={'Kuis':'Tugas'})\n",
    "tabel_baru"
   ]
  },
  {
   "cell_type": "code",
   "execution_count": 32,
   "metadata": {},
   "outputs": [
    {
     "data": {
      "text/html": [
       "<div>\n",
       "<style scoped>\n",
       "    .dataframe tbody tr th:only-of-type {\n",
       "        vertical-align: middle;\n",
       "    }\n",
       "\n",
       "    .dataframe tbody tr th {\n",
       "        vertical-align: top;\n",
       "    }\n",
       "\n",
       "    .dataframe thead th {\n",
       "        text-align: right;\n",
       "    }\n",
       "</style>\n",
       "<table border=\"1\" class=\"dataframe\">\n",
       "  <thead>\n",
       "    <tr style=\"text-align: right;\">\n",
       "      <th></th>\n",
       "      <th>Tugas</th>\n",
       "      <th>UTS</th>\n",
       "      <th>UAS</th>\n",
       "      <th>Kuis</th>\n",
       "    </tr>\n",
       "  </thead>\n",
       "  <tbody>\n",
       "    <tr>\n",
       "      <th>Siti</th>\n",
       "      <td>70</td>\n",
       "      <td>83</td>\n",
       "      <td>79</td>\n",
       "      <td>80</td>\n",
       "    </tr>\n",
       "    <tr>\n",
       "      <th>Renol</th>\n",
       "      <td>80</td>\n",
       "      <td>86</td>\n",
       "      <td>81</td>\n",
       "      <td>85</td>\n",
       "    </tr>\n",
       "    <tr>\n",
       "      <th>Arif</th>\n",
       "      <td>87</td>\n",
       "      <td>88</td>\n",
       "      <td>90</td>\n",
       "      <td>87</td>\n",
       "    </tr>\n",
       "    <tr>\n",
       "      <th>Fanny</th>\n",
       "      <td>77</td>\n",
       "      <td>84</td>\n",
       "      <td>91</td>\n",
       "      <td>81</td>\n",
       "    </tr>\n",
       "  </tbody>\n",
       "</table>\n",
       "</div>"
      ],
      "text/plain": [
       "       Tugas  UTS  UAS  Kuis\n",
       "Siti      70   83   79    80\n",
       "Renol     80   86   81    85\n",
       "Arif      87   88   90    87\n",
       "Fanny     77   84   91    81"
      ]
     },
     "execution_count": 32,
     "metadata": {},
     "output_type": "execute_result"
    }
   ],
   "source": [
    "tabel_baru['Kuis']=pd.Series([80,85,87,81],\n",
    "                            index=['Siti','Renol','Arif','Fanny'])\n",
    "tabel_baru"
   ]
  },
  {
   "cell_type": "code",
   "execution_count": 33,
   "metadata": {},
   "outputs": [
    {
     "data": {
      "text/html": [
       "<div>\n",
       "<style scoped>\n",
       "    .dataframe tbody tr th:only-of-type {\n",
       "        vertical-align: middle;\n",
       "    }\n",
       "\n",
       "    .dataframe tbody tr th {\n",
       "        vertical-align: top;\n",
       "    }\n",
       "\n",
       "    .dataframe thead th {\n",
       "        text-align: right;\n",
       "    }\n",
       "</style>\n",
       "<table border=\"1\" class=\"dataframe\">\n",
       "  <thead>\n",
       "    <tr style=\"text-align: right;\">\n",
       "      <th></th>\n",
       "      <th>Tugas</th>\n",
       "      <th>UTS</th>\n",
       "      <th>UAS</th>\n",
       "      <th>Kuis</th>\n",
       "    </tr>\n",
       "  </thead>\n",
       "  <tbody>\n",
       "    <tr>\n",
       "      <th>Siti</th>\n",
       "      <td>90</td>\n",
       "      <td>83</td>\n",
       "      <td>79</td>\n",
       "      <td>80</td>\n",
       "    </tr>\n",
       "    <tr>\n",
       "      <th>Renol</th>\n",
       "      <td>80</td>\n",
       "      <td>86</td>\n",
       "      <td>81</td>\n",
       "      <td>85</td>\n",
       "    </tr>\n",
       "    <tr>\n",
       "      <th>Arif</th>\n",
       "      <td>87</td>\n",
       "      <td>88</td>\n",
       "      <td>90</td>\n",
       "      <td>87</td>\n",
       "    </tr>\n",
       "    <tr>\n",
       "      <th>Fanny</th>\n",
       "      <td>77</td>\n",
       "      <td>84</td>\n",
       "      <td>91</td>\n",
       "      <td>81</td>\n",
       "    </tr>\n",
       "  </tbody>\n",
       "</table>\n",
       "</div>"
      ],
      "text/plain": [
       "       Tugas  UTS  UAS  Kuis\n",
       "Siti      90   83   79    80\n",
       "Renol     80   86   81    85\n",
       "Arif      87   88   90    87\n",
       "Fanny     77   84   91    81"
      ]
     },
     "execution_count": 33,
     "metadata": {},
     "output_type": "execute_result"
    }
   ],
   "source": [
    "bb=tabel_baru.replace(70,90)\n",
    "bb"
   ]
  },
  {
   "cell_type": "markdown",
   "metadata": {},
   "source": [
    "### Missing value"
   ]
  },
  {
   "cell_type": "markdown",
   "metadata": {},
   "source": [
    "Pada suatu dataset, ada kalanya data yang akan dianalisa tidak lengkap. Hal ini akan membuat hasil analisa tidak akurat. \n",
    "Kehilangan data bisa diatasi dengan berbagai cara. Bahkan, melakukan penghapusan data juga merupakan solusi yang bisa menjadi pilihan apabila jika dirasa mengisi nilai kosong akan memberikan pengaruh yang kurang bagus terhadap analisa, atau apabila pertimbangan data yang dihapus atau data yang hilang sedikit dan tidak memberikan terlalu banyak sumbangsih untuk analisa yang akan dilakukan. Penghapusan data bisa langsung pada baris data tersebut atau langsung satu kolom data. Pada solusi kedua yaitu menggunakan imputation (pengisian data yang kosong) bisa tergantung dari permasalahannya. Khusus untuk masalah yang berhubungan peramalan tergantung dari data yang ada (lebih lengkap bisa dilihat pada gambar di ppt). Khusus untuk general problem tergantung jenis datanya. Jika yang hilang data kategorikal atau bersifat string bisa menggunakan relasi antar kolom dengan Logistic Regression, jika numerical bisa menggunakan statistik sederhana dan linear regression."
   ]
  },
  {
   "cell_type": "code",
   "execution_count": 34,
   "metadata": {},
   "outputs": [
    {
     "name": "stdout",
     "output_type": "stream",
     "text": [
      "[[-1.16948137  0.32720517 -1.89868617]\n",
      " [ 0.6577561   0.90310608  0.73153056]\n",
      " [ 0.57813702  0.96639781 -0.96023025]\n",
      " [ 1.40032813  2.34961301 -0.5511971 ]\n",
      " [ 0.5377999   0.56115602 -0.0717551 ]]\n"
     ]
    }
   ],
   "source": [
    "df = np.random.randn(5, 3)\n",
    "print(df)"
   ]
  },
  {
   "cell_type": "code",
   "execution_count": 35,
   "metadata": {},
   "outputs": [
    {
     "name": "stdout",
     "output_type": "stream",
     "text": [
      "        one       two     three\n",
      "a -1.169481  0.327205 -1.898686\n",
      "c  0.657756  0.903106  0.731531\n",
      "e  0.578137  0.966398 -0.960230\n",
      "f  1.400328  2.349613 -0.551197\n",
      "h  0.537800  0.561156 -0.071755\n"
     ]
    }
   ],
   "source": [
    "df = pd.DataFrame(df, index=['a', 'c', 'e', 'f',\n",
    "'h'],columns=['one', 'two', 'three'])\n",
    "print(df)"
   ]
  },
  {
   "cell_type": "code",
   "execution_count": 36,
   "metadata": {},
   "outputs": [
    {
     "name": "stdout",
     "output_type": "stream",
     "text": [
      "        one       two     three\n",
      "a -1.169481  0.327205 -1.898686\n",
      "b       NaN       NaN       NaN\n",
      "c  0.657756  0.903106  0.731531\n",
      "d       NaN       NaN       NaN\n",
      "e  0.578137  0.966398 -0.960230\n",
      "f  1.400328  2.349613 -0.551197\n",
      "g       NaN       NaN       NaN\n",
      "h  0.537800  0.561156 -0.071755\n"
     ]
    }
   ],
   "source": [
    "df = df.reindex(['a', 'b', 'c', 'd', 'e', 'f', 'g', 'h'])\n",
    "print(df)"
   ]
  },
  {
   "cell_type": "code",
   "execution_count": 37,
   "metadata": {},
   "outputs": [
    {
     "name": "stdout",
     "output_type": "stream",
     "text": [
      "True\n"
     ]
    }
   ],
   "source": [
    "print(df.isnull().values.any())"
   ]
  },
  {
   "cell_type": "code",
   "execution_count": 38,
   "metadata": {},
   "outputs": [
    {
     "name": "stdout",
     "output_type": "stream",
     "text": [
      "a    False\n",
      "b     True\n",
      "c    False\n",
      "d     True\n",
      "e    False\n",
      "f    False\n",
      "g     True\n",
      "h    False\n",
      "Name: one, dtype: bool\n"
     ]
    }
   ],
   "source": [
    "print(df['one'].isnull())"
   ]
  },
  {
   "cell_type": "code",
   "execution_count": 39,
   "metadata": {},
   "outputs": [
    {
     "name": "stdout",
     "output_type": "stream",
     "text": [
      "        one       two     three\n",
      "a -1.169481  0.327205 -1.898686\n",
      "c  0.657756  0.903106  0.731531\n",
      "e  0.578137  0.966398 -0.960230\n",
      "f  1.400328  2.349613 -0.551197\n",
      "h  0.537800  0.561156 -0.071755\n"
     ]
    }
   ],
   "source": [
    "#mengatasi missing value dengan menghapus data yang kosong \n",
    "print(df.dropna())"
   ]
  },
  {
   "cell_type": "code",
   "execution_count": 40,
   "metadata": {},
   "outputs": [
    {
     "name": "stdout",
     "output_type": "stream",
     "text": [
      "one      0.400908\n",
      "two      1.021496\n",
      "three   -0.550068\n",
      "dtype: float64\n"
     ]
    }
   ],
   "source": [
    "#mengatasi missing value dengan mean\n",
    "print(df.mean()) #memeriksa mean setiap kolom"
   ]
  },
  {
   "cell_type": "code",
   "execution_count": 41,
   "metadata": {},
   "outputs": [
    {
     "name": "stdout",
     "output_type": "stream",
     "text": [
      "Dataset yang sudah diproses missing value dengan mean :\n",
      "        one       two     three\n",
      "a -1.169481  0.327205 -1.898686\n",
      "b  0.400908  1.021496 -0.550068\n",
      "c  0.657756  0.903106  0.731531\n",
      "d  0.400908  1.021496 -0.550068\n",
      "e  0.578137  0.966398 -0.960230\n",
      "f  1.400328  2.349613 -0.551197\n",
      "g  0.400908  1.021496 -0.550068\n",
      "h  0.537800  0.561156 -0.071755\n"
     ]
    }
   ],
   "source": [
    "df_mean=df.fillna(df.mean()) #mengisi data dengan mean\n",
    "print(\"Dataset yang sudah diproses missing value dengan mean :\")\n",
    "print(df_mean)"
   ]
  },
  {
   "cell_type": "code",
   "execution_count": 42,
   "metadata": {},
   "outputs": [
    {
     "name": "stdout",
     "output_type": "stream",
     "text": [
      "one      0.578137\n",
      "two      0.903106\n",
      "three   -0.551197\n",
      "dtype: float64\n"
     ]
    }
   ],
   "source": [
    "#mengatasi missing data dengan median\n",
    "print(df.median())"
   ]
  },
  {
   "cell_type": "code",
   "execution_count": 43,
   "metadata": {},
   "outputs": [
    {
     "name": "stdout",
     "output_type": "stream",
     "text": [
      "Dataset yang sudah diproses missing value dengan median :\n",
      "        one       two     three\n",
      "a -1.169481  0.327205 -1.898686\n",
      "b  0.578137  0.903106 -0.551197\n",
      "c  0.657756  0.903106  0.731531\n",
      "d  0.578137  0.903106 -0.551197\n",
      "e  0.578137  0.966398 -0.960230\n",
      "f  1.400328  2.349613 -0.551197\n",
      "g  0.578137  0.903106 -0.551197\n",
      "h  0.537800  0.561156 -0.071755\n"
     ]
    }
   ],
   "source": [
    "df_median=df.fillna(df.median()) #mengisi data dengan median\n",
    "print(\"Dataset yang sudah diproses missing value dengan median :\")\n",
    "print(df_median)"
   ]
  }
 ],
 "metadata": {
  "kernelspec": {
   "display_name": "Python 3",
   "language": "python",
   "name": "python3"
  },
  "language_info": {
   "codemirror_mode": {
    "name": "ipython",
    "version": 3
   },
   "file_extension": ".py",
   "mimetype": "text/x-python",
   "name": "python",
   "nbconvert_exporter": "python",
   "pygments_lexer": "ipython3",
   "version": "3.7.6"
  }
 },
 "nbformat": 4,
 "nbformat_minor": 4
}
